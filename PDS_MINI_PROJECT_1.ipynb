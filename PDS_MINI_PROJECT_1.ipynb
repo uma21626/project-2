{
 "cells": [
  {
   "cell_type": "markdown",
   "metadata": {
    "id": "H-T3rXcWRbF7"
   },
   "source": [
    "<table align=\"center\" width=100%>\n",
    "    <tr>\n",
    "       <td>\n",
    "            <div align=\"center\">\n",
    "                <font color=\"#21618C\" size=8px>\n",
    "                    <b> MINI PROJECT 1<br>\n",
    "                    </b>\n",
    "                </font>\n",
    "            </div>\n",
    "        </td>\n",
    "        <td width=\"25%\">\n",
    "            <img src=\"NEW_GL_Logo.png\">\n",
    "        </td>\n",
    "    </tr>\n",
    "</table>"
   ]
  },
  {
   "cell_type": "markdown",
   "metadata": {},
   "source": [
    "\n",
    "## Group Members Name\n",
    "  \n",
    "<div class=\"alert alert-warning\">\n",
    "<p style=\"font-family: Arial Black; font-size:1.4em;color:Purple;\">  \n",
    "1.  G. R. Priyavarshini\n",
    "<div class=\"alert alert-warning\">\n",
    "<p style=\"font-family: Arial Black; font-size:1.4em;color:Purple;\">    \n",
    "2.  G. R. Tamothar\n",
    "<div class=\"alert alert-warning\">\n",
    "<p style=\"font-family: Arial Black; font-size:1.4em;color:Purple;\">    \n",
    "3.  T. Uma Maheshwari"
   ]
  },
  {
   "cell_type": "markdown",
   "metadata": {
    "id": "PtuTRJHvRbGF"
   },
   "source": [
    "## 1. Write a program to transpose a matrix (3 marks)   matrix= [[1,2,3],[3,4,5],[5,6,8],[7,8,9]]"
   ]
  },
  {
   "cell_type": "markdown",
   "metadata": {},
   "source": [
    "#### METHOD 1 : TRADITIONAL WAY OF PYTHON CODING"
   ]
  },
  {
   "cell_type": "code",
   "execution_count": 1,
   "metadata": {
    "id": "60NuhxtURbGH"
   },
   "outputs": [
    {
     "name": "stdout",
     "output_type": "stream",
     "text": [
      "[[1, 3, 5, 7], [2, 4, 6, 8], [3, 5, 8, 9]]\n"
     ]
    }
   ],
   "source": [
    "#we initialize a matrix\n",
    "matrix = [[1, 2, 3], [3, 4, 5], [5, 6, 8], [7, 8, 9]]\n",
    "#initialize transpose with size of matrix transpose\n",
    "transpose = [[0 for j in range(len(matrix))] for i in range(len(matrix[0]))]\n",
    "#transpose into 3*4 matrix\n",
    "#transpose = [[0,0,0,0],[0,0,0,0],[0,0,0,0]]\n",
    "#The above can also be used initialize transpose with size of matrix transpose\n",
    "#now we apply the loop\n",
    "for i in range(len(matrix)):\n",
    "    # iterate through columns\n",
    "    for j in range(len(matrix[0])):\n",
    "        transpose[j][i] = matrix[i][j]\n",
    "print(transpose)"
   ]
  },
  {
   "cell_type": "markdown",
   "metadata": {},
   "source": [
    "#### Summary: \n",
    "<div class=\"alert alert-danger\"><p style=\"font-family: Times New Roman; font-size:1.4em;color:Purple;\">The matrix transpose is done using nested loop. We are creating a matrix and then creating another matrix of the same size as the original matrix to store the results back after transpose. We do not do a hard code of the results matrix because we do not know the dimension of the matrix in the future. So, we are creating the result matrix size using the original matrix size itself. We use some pythonic ways to find out the dimension of the transpose matrix using the original matrix. Because if we do not do this, then we have to mention the dimension of the transpose matrix. But with this method, we do not care about the dimensions of the matrix. We run two loops. One upper loop is for the rows and the nested loop for the column-wise. We are printing the transpose matrix (transpose),and from the results, we found that our matrix is now transposed. "
   ]
  },
  {
   "cell_type": "markdown",
   "metadata": {},
   "source": [
    "#### METHOD 2 : USING zip() FUNCTION"
   ]
  },
  {
   "cell_type": "code",
   "execution_count": 2,
   "metadata": {},
   "outputs": [
    {
     "data": {
      "text/plain": [
       "[[1, 3, 5, 7], [2, 4, 6, 8], [3, 5, 8, 9]]"
      ]
     },
     "execution_count": 2,
     "metadata": {},
     "output_type": "execute_result"
    }
   ],
   "source": [
    "X = [1,2,3], [3, 4, 5], [5, 6, 8], [7, 8, 9]\n",
    "zip(*X)\n",
    "[list(tup) for tup in zip(*X)]"
   ]
  },
  {
   "cell_type": "markdown",
   "metadata": {},
   "source": [
    "#### Summary: \n",
    "\n",
    "<div class=\"alert alert-warning\">\n",
    "<p style=\"font-family: Times New Roman; font-size:1.4em;color:brown;\">\n",
    "*  (*) is the unpacking syntax\n",
    "<div class=\"alert alert-warning\">\n",
    "<p style=\"font-family: Times New Roman; font-size:1.4em;color:brown;\">\n",
    "*  zip(*X)---->zip([1,2,3], [3, 4, 5], [5, 6, 8], [7, 8, 9])\n",
    "<div class=\"alert alert-warning\">\n",
    "<p style=\"font-family:Times New Roman; font-size:1.4em;color:brown;\">\n",
    "   The zip() function returns a zip object, which is an iterator of tuples where the first item \n",
    "   in each passed iterator is paired together, and then the second item in each passed iterator are paired together etc.\n",
    "<div class=\"alert alert-warning\">   \n",
    "<p style=\"font-family: Times New Roman; font-size:1.4em;color:brown;\">   \n",
    "*  zip([1,2,3], [3, 4, 5], [5, 6, 8], [7, 8, 9])----> returns as tuple ---->[(1, 3, 5, 7), (2, 4, 6, 8), (3, 5, 8, 9)]\n",
    "<div class=\"alert alert-warning\">\n",
    "<p style=\"font-family:Times New Roman; font-size:1.4em;color:brown;\">\n",
    "*  If the inner pairs absolutely need to be lists\n",
    "   [list(tup) for tup in zip(*X)]</div>\n"
   ]
  },
  {
   "cell_type": "markdown",
   "metadata": {},
   "source": [
    "#### METHOD 3: USING numpy"
   ]
  },
  {
   "cell_type": "code",
   "execution_count": 3,
   "metadata": {},
   "outputs": [
    {
     "name": "stdout",
     "output_type": "stream",
     "text": [
      "[[1 3 5 7]\n",
      " [2 4 6 8]\n",
      " [3 5 8 9]]\n"
     ]
    }
   ],
   "source": [
    "import numpy as np\n",
    "arr1 = [[1, 2, 3], [3, 4, 5], [5, 6, 8], [7, 8, 9]] \n",
    "#The transpose() function works with an array like object too, such as a nested list.\n",
    "arr1_transpose = np.transpose(arr1)\n",
    "print(arr1_transpose)"
   ]
  },
  {
   "cell_type": "markdown",
   "metadata": {},
   "source": [
    "#### Summary:\n",
    "<div class=\"alert alert-success\">\n",
    "<p style=\"font-family: Times New Roman; font-size:1.4em;color:Magenta;\"> \n",
    "If we are working with matrices, you should almost certainly be using numpy. This will perform numerical operations easier and more efficiently than pure Python code."
   ]
  },
  {
   "cell_type": "markdown",
   "metadata": {},
   "source": [
    "### 2. Create a dictionary containing four lambda functions square, cube, squareroot, multiply by 3 (8 marks)\n",
    "\n",
    "**E.g. dict = {'Square': function for squaring, 'Cube': function for cube, 'Squareroot': function for squareroot, 'Double': function for double} and so on**\n",
    "\n",
    "**Pass the values (input from the user) to the functions in the dictionary respectively. Then add the outputs of each function and print it.**"
   ]
  },
  {
   "cell_type": "code",
   "execution_count": 4,
   "metadata": {
    "id": "Pxj1Oh5rRbGL"
   },
   "outputs": [
    {
     "name": "stdout",
     "output_type": "stream",
     "text": [
      "6\n"
     ]
    },
    {
     "data": {
      "text/plain": [
       "272.44948974278316"
      ]
     },
     "execution_count": 4,
     "metadata": {},
     "output_type": "execute_result"
    }
   ],
   "source": [
    "# we create the function\n",
    "def addFunc(number):\n",
    "    \n",
    "    # we create dictionary containing four lambda functions \n",
    "    MathFunc = {\n",
    "        'Square': lambda a: a**2, #lambda parameter:expression\n",
    "        'Cube': lambda a: a**3,\n",
    "        'Squareroot': lambda a: a**0.5,\n",
    "        'Multiply by 3': lambda a: a * 3 #if the input =6: square=36,cube=216,squareroot=2.44,triple=18\n",
    "    }\n",
    "    \n",
    "    # to store the ouputs we create and initialise with 0\n",
    "    final = 0\n",
    "    # iterate through keys\n",
    "    for key in MathFunc.keys():\n",
    "        final += MathFunc[key](number) #if the input =6: square+cube+squareroot+triple =272.44\n",
    "    return final\n",
    "\n",
    "addFunc(int(input()))"
   ]
  },
  {
   "cell_type": "markdown",
   "metadata": {},
   "source": [
    "<strong>Summary: </strong> \n",
    "<div class=\"alert alert-danger\"> \n",
    "<p style=\"font-family: Times New Roman; font-size:1.4em;color:gold;\"><span style='color:Orange'> \n",
    "First step ---> Create function called addFunc \n",
    "<p style=\"font-family:Times New Roman; font-size:1.4em;color:gold;\"><span style='color:Orange'> \n",
    "Second step ---> Create a dictionary containing four lambda functions\n",
    "<p style=\"font-family: Times New Roman; font-size:1.4em;color:gold;\"><span style='color:Orange'> \n",
    "Third step ---> To store the ouputs we create and initialise with 0\n",
    "<p style=\"font-family: Times New Roman; font-size:1.4em;color:gold;\"><span style='color:Orange'> \n",
    "Fourth step ---> Iterate through keys\n",
    "<p style=\"font-family: Times New Roman; font-size:1.4em;color:gold;\"><span style='color:Orange'> \n",
    "Fifth step ---> Calling the function by passing a argument using runtime variable\n",
    "<p style=\"font-family: Times New Roman; font-size:1.4em;color:gold;\"><span style='color:Orange'> \n",
    "If the input =6: square+cube+squareroot+triple =272.44\n",
    "\n",
    "</span>  \n",
    "    "
   ]
  },
  {
   "cell_type": "markdown",
   "metadata": {},
   "source": [
    "###  3. A list of words is given. Define a function to find the words from the list that have their second character in uppercase (4 marks)"
   ]
  },
  {
   "cell_type": "markdown",
   "metadata": {
    "id": "JoEJ3RCbRbGN"
   },
   "source": [
    "<b>list1 = ['swiggy', 'Zomato', 'aMazon', 'TATa Cliq', 'uBer', 'JioMart','BIG BASKET' ]</b><br>"
   ]
  },
  {
   "cell_type": "code",
   "execution_count": 5,
   "metadata": {
    "id": "u2mSIYH4RbGO"
   },
   "outputs": [
    {
     "data": {
      "text/plain": [
       "['aMazon', 'TATa Cliq', 'uBer', 'BIG BASKET']"
      ]
     },
     "execution_count": 5,
     "metadata": {},
     "output_type": "execute_result"
    }
   ],
   "source": [
    "# we create the function\n",
    "def find2ndUpprChr(words):\n",
    "    \n",
    "    # iterate list find the upper character of 2nd element of each value\n",
    "    return [item for item in words if item[1].isupper()]\n",
    "    \n",
    "#Declaraing the list\n",
    "list1 = ['swiggy', 'Zomato', 'aMazon', 'TATa Cliq', 'uBer', 'JioMart','BIG BASKET']\n",
    "\n",
    "# call the function\n",
    "find2ndUpprChr(list1)"
   ]
  },
  {
   "cell_type": "markdown",
   "metadata": {},
   "source": [
    "<strong>Summary: </strong> \n",
    "<div class=\"alert alert-warning\">    \n",
    "<p style=\"font-family: Times New Roman; font-size:1.4em;color:lime;\">    \n",
    "First step ---> Create the function as find2ndUpprChr\n",
    "<div class=\"alert alert-warning\">\n",
    "<p style=\"font-family: Times New Roman; font-size:1.4em;color:lime;\"> \n",
    "Second step ---> Iterate list\n",
    "<div class=\"alert alert-warning\">\n",
    "<p style=\"font-family: Times New Roman; font-size:1.4em;color:lime;\"> \n",
    "Third step ---> find the upper character of 2nd element of each value using isupper()\n",
    "<div class=\"alert alert-warning\">\n",
    "<p style=\"font-family: Times New Roman; font-size:1.4em;color:lime;\"> \n",
    "Fourth step ---> Declaraing the list\n",
    "<div class=\"alert alert-warning\">\n",
    "<p style=\"font-family: Times New Roman; font-size:1.4em;color:lime;\"> \n",
    "Fifth step ---> Calling the function\n",
    "    "
   ]
  },
  {
   "cell_type": "markdown",
   "metadata": {},
   "source": [
    " ### 4. Define a function to filter the marks from the tuple \"tmarks\" that are greater than 40 and print corresponding names from the \"tnames\" tuple (2 marks)"
   ]
  },
  {
   "cell_type": "markdown",
   "metadata": {
    "id": "bxm4wgFjRbGQ"
   },
   "source": [
    "<b>tnames = ('John','Sharon','Jack','Annie', 'Antony', 'Thomson', 'Rijo')</b><br>\n",
    "<b>tmarks = (32,50,75,12,40,23,37)</b>"
   ]
  },
  {
   "cell_type": "code",
   "execution_count": 6,
   "metadata": {
    "id": "d6fEuvKMRbGQ"
   },
   "outputs": [
    {
     "name": "stdout",
     "output_type": "stream",
     "text": [
      "Sharon 50\n",
      "Jack 75\n"
     ]
    }
   ],
   "source": [
    "def FilterMarks(tmarks, tnames): #Define a function named FilterMarks\n",
    "    for mark in tmarks:\n",
    "        index = tmarks.index(mark)\n",
    "        if mark > 40:\n",
    "            print(tnames[index],tmarks[index]) #using if condition to filter out tmarks greater than 40\n",
    "\n",
    "tnames = ('John', 'Sharon', 'Jack', 'Annie', 'Antony', 'Thomson', 'Rijo')\n",
    "tmarks = (32, 50, 75, 12, 40, 23, 37)\n",
    "\n",
    "FilterMarks(tmarks, tnames)"
   ]
  },
  {
   "cell_type": "markdown",
   "metadata": {},
   "source": [
    "<strong>Summary: </strong> \n",
    "<div class=\"alert alert-info\">    \n",
    "<p style=\"font-family: Times New Roman; font-size:1.4em;color:DarkBlue;\">  \n",
    "First step ---> Define a function named FilterMarks\n",
    "<div class=\"alert alert-info\">    \n",
    "<p style=\"font-family: Times New Roman; font-size:1.4em;color:DarkBlue;\">  \n",
    "Second step ---> Filtering the marks from the tuple \"tmarks\" by index\n",
    "<div class=\"alert alert-info\">    \n",
    "<p style=\"font-family: Times New Roman; font-size:1.4em;color:DarkBlue;\">  \n",
    "Third step ---> using if condition to filter out tmarks greater than 40\n",
    "<div class=\"alert alert-info\">    \n",
    "<p style=\"font-family: Times New Roman; font-size:1.4em;color:DarkBlue;\">  \n",
    "Fourth step ---> Printing the corresponding tnames to tmarks by passing it as argument to the calling function\n",
    "    "
   ]
  },
  {
   "cell_type": "markdown",
   "metadata": {},
   "source": [
    "### 5. A dictionary of names and their weights on earth is given. Find how much they will weight on the moon. (use map and lambda functions) (3 marks)"
   ]
  },
  {
   "cell_type": "markdown",
   "metadata": {
    "id": "RaAgVCDwRbGS"
   },
   "source": [
    "**Weight of people in kg**\n",
    "WeightOnEarth = {'John':45, 'Shelly':65, 'Marry':35}        \n",
    "\n",
    "**Gravitational force on the Moon**\n",
    "GMoon = 1.622                                              \n",
    "\n",
    "**Gravitational force on the Earth**\n",
    "GEarth = 9.81                                              \n",
    "\n",
    "**Output:** \n",
    "Weight on Moon:  {'John': 7.44, 'Shelly': 10.75, 'Marry': 5.79}"
   ]
  },
  {
   "cell_type": "code",
   "execution_count": 7,
   "metadata": {
    "id": "It65f3IBRbGS"
   },
   "outputs": [
    {
     "name": "stdout",
     "output_type": "stream",
     "text": [
      "Weight on Moon: {'John': 7.44, 'Shelly': 10.75, 'Marry': 5.79}\n"
     ]
    }
   ],
   "source": [
    "# Weight of people in kg\n",
    "# Gravitational force on the Moon: 1.622 m/s2\n",
    "# Gravitational force on the Earth: 9.81 m/s2\n",
    "# Formula : wMoon = (wEarth * GMoon) / GEartZ\n",
    "WeightOnEarth = {'John':45, 'Shelly':65, 'Marry':35}  \n",
    "GMoon = 1.622\n",
    "GEarth = 9.81\n",
    "WMoon = lambda item: (item[0], round((item[1] * GMoon / GEarth), 2))\n",
    "WeightonMoon = dict(map(WMoon,WeightOnEarth.items()))\n",
    "print(f\"Weight on Moon: {WeightonMoon}\")"
   ]
  },
  {
   "cell_type": "markdown",
   "metadata": {},
   "source": [
    "<strong>Summary: </strong> \n",
    "<div class=\"alert alert-success\">    \n",
    "<p style=\"font-family: Times New Roman; font-size:1.4em;color:olive;\">  \n",
    "First step ---> Declaring variables\n",
    "<div class=\"alert alert-success\">    \n",
    "<p style=\"font-family: Times New Roman; font-size:1.4em;color:olive;\">  \n",
    "Second step ---> Using lambda function for calculating weight on the moon\n",
    "<div class=\"alert alert-success\">    \n",
    "<p style=\"font-family: Times New Roman; font-size:1.4em;color:olive;\">  \n",
    "Third step ---> map() function returns a map object(which is an iterator) of the results after applying the given \n",
    "function to each item of a given iterable (list, tuple etc.)\n",
    "<div class=\"alert alert-success\">    \n",
    "<p style=\"font-family: Times New Roman; font-size:1.4em;color:olive;\">  \n",
    "Fourth step ---> Priting Weight on Moon"
   ]
  }
 ],
 "metadata": {
  "colab": {
   "name": "ITP-Day 4_TH Exercise.ipynb",
   "provenance": []
  },
  "kernelspec": {
   "display_name": "Python 3 (ipykernel)",
   "language": "python",
   "name": "python3"
  },
  "language_info": {
   "codemirror_mode": {
    "name": "ipython",
    "version": 3
   },
   "file_extension": ".py",
   "mimetype": "text/x-python",
   "name": "python",
   "nbconvert_exporter": "python",
   "pygments_lexer": "ipython3",
   "version": "3.9.12"
  },
  "toc": {
   "base_numbering": 1,
   "nav_menu": {},
   "number_sections": true,
   "sideBar": true,
   "skip_h1_title": false,
   "title_cell": "Table of Contents",
   "title_sidebar": "Contents",
   "toc_cell": false,
   "toc_position": {},
   "toc_section_display": true,
   "toc_window_display": false
  }
 },
 "nbformat": 4,
 "nbformat_minor": 1
}
